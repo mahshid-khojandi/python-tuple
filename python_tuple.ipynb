{
  "nbformat": 4,
  "nbformat_minor": 0,
  "metadata": {
    "colab": {
      "provenance": [],
      "authorship_tag": "ABX9TyPfODb19LkmCQVVR6/CnX15",
      "include_colab_link": true
    },
    "kernelspec": {
      "name": "python3",
      "display_name": "Python 3"
    },
    "language_info": {
      "name": "python"
    }
  },
  "cells": [
    {
      "cell_type": "markdown",
      "metadata": {
        "id": "view-in-github",
        "colab_type": "text"
      },
      "source": [
        "<a href=\"https://colab.research.google.com/github/mahshid-khojandi/python-tuple/blob/main/python_tuple.ipynb\" target=\"_parent\"><img src=\"https://colab.research.google.com/assets/colab-badge.svg\" alt=\"Open In Colab\"/></a>"
      ]
    },
    {
      "cell_type": "markdown",
      "source": [
        "Using a pair of parentheses to denote the empty tuple: ()\n",
        "\n",
        "Tuples are immutable sequences\n",
        "\n",
        "Using a trailing comma for a singleton tuple: a, or (a,)"
      ],
      "metadata": {
        "id": "TVRWAIp2ukkl"
      }
    },
    {
      "cell_type": "code",
      "source": [
        "colors = ('red', 'blue', 1 , 45)\n",
        "print (type(colors))"
      ],
      "metadata": {
        "colab": {
          "base_uri": "https://localhost:8080/"
        },
        "id": "S4hJ29KUIg1v",
        "outputId": "f5dff1e4-6d17-44b1-c4aa-78d8ded1a517"
      },
      "execution_count": 1,
      "outputs": [
        {
          "output_type": "stream",
          "name": "stdout",
          "text": [
            "<class 'tuple'>\n"
          ]
        }
      ]
    },
    {
      "cell_type": "code",
      "source": [
        "colors = ('red', 'blue', 1 , 45)\n",
        "print (colors[1])\n",
        "print (colors[1:3])"
      ],
      "metadata": {
        "colab": {
          "base_uri": "https://localhost:8080/"
        },
        "id": "dvh88cBnJFCI",
        "outputId": "f1ad9d26-66b2-4327-ccee-611fcdd28b94"
      },
      "execution_count": 3,
      "outputs": [
        {
          "output_type": "stream",
          "name": "stdout",
          "text": [
            "blue\n",
            "('blue', 1)\n"
          ]
        }
      ]
    },
    {
      "cell_type": "code",
      "source": [
        "colors = ('red', 'blue', 'black', 'green')\n",
        "(zero, one, two, three) = colors\n",
        "print(zero)\n",
        "print(one)"
      ],
      "metadata": {
        "colab": {
          "base_uri": "https://localhost:8080/"
        },
        "id": "RztNzKl4Jz2v",
        "outputId": "1ee41449-7357-4268-e37c-7975769eb912"
      },
      "execution_count": 8,
      "outputs": [
        {
          "output_type": "stream",
          "name": "stdout",
          "text": [
            "red\n",
            "blue\n"
          ]
        }
      ]
    }
  ]
}